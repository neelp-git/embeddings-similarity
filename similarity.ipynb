{
  "cells": [
    {
      "attachments": {},
      "cell_type": "markdown",
      "metadata": {
        "id": "FbbxHjP6il2X"
      },
      "source": [
        "# An Experiment with Similarity Search and Embeddings\n",
        "\n",
        "We query a dataset that has semantically similar and dissimilar sentences to the query sentence. Only known similar sentences should be returned in query results. We assign an accuracy score based on the actual versus expected results,\n",
        "\n",
        "We conduct the experiment using the following tools:\n",
        "\n",
        "Embeddings: Hugging Face 'all-MimiLM-L6-v2'\n",
        "Similarity metrics: \n",
        "    a) Cosine and b) Dot product functions in semantic_search in sentence_transformer.util \n",
        "    c) Euclidean distance with numpy's numalg.norm\n"
      ]
    },
    {
      "attachments": {},
      "cell_type": "markdown",
      "metadata": {
        "id": "ilhBUQDJl6ES"
      },
      "source": [
        "## Queries\n",
        "\n",
        "We query the dataset separately for results most similar to the following two sentences:\n",
        "1. \"The deer froze in the headlights of the car.\"\n",
        "2. \"Dream to solve world's problems.\""
      ]
    },
    {
      "attachments": {},
      "cell_type": "markdown",
      "metadata": {
        "id": "OFey0LUcnJAN"
      },
      "source": [
        "## The Dataset\n",
        "The dataset consists of the following groups of sentences:\n",
        "1. Known similar sentences.\n",
        "2. Confounding sentences, or sentences that may share common words with the query, but are semantically dissimiar.\n",
        "3. Unrelated sentences."
      ]
    },
    {
      "attachments": {},
      "cell_type": "markdown",
      "metadata": {
        "id": "OW3OSs2Anwe-"
      },
      "source": [
        "## Known similar sentences\n",
        "For query sentence 1 (\"The deer froze in the headlights of the car.\"):\n",
        "a known similar sentence is manually created.\n",
        "  1. The car skidded to stop for the deer that stood frozen in the headlights of the car.\n",
        "\n",
        "Other similar sentences are obtained from ChatGPT using the following prompt:\n",
        "  - Generate variations without changing the meaning of the paragraph:  \"The car skidded to stop for the deer that stood frozen in the headlights of the car\".  Provide the following variations: 1) Paraphrase, 2) Elaboration, 3) Simplification, 4) Synonym, 5) Summary in 20 words or less.\"\n",
        "\n",
        "ChatGPT responses:\n",
        "1. Paraphrase: The vehicle slid and came to a halt in response to the deer's immobility under the car's headlights.\n",
        "1. Elaboration: As the car lost traction, it slid across the road and eventually halted abruptly, its brakes screeching, due to the presence of a motionless deer standing in the direct path of its headlights.\n",
        "1. Simplification: The car skidded and stopped for the frozen deer in its headlights.\n",
        "1. Synonym: The car skidded to a standstill for the deer that remained motionless in the car's headlights.\n",
        "1. Summary: The car skidded and stopped to avoid the motionless deer illuminated by its headlights."
      ]
    },
    {
      "attachments": {},
      "cell_type": "markdown",
      "metadata": {
        "id": "ZpKgR1jIsVOs"
      },
      "source": [
        "For query sentence 2 (\"Dream to solve world's problems.\"), a known similar sentence is manually created.\n",
        "  1. Having finished his PhD at 16, the boy genius  contemplated the challenges the world faced, and intuited that science must be the solution \n",
        "\n",
        "Other similar sentences are obtained from ChatGPT using the following prompt:\n",
        "  - Generate variations without changing the meaning of the  paragraph:  \"Having finished his PhD at 16, the boy genius  contemplated the challenges the world faced, and intuited that science must be the solution \".  Provide the following variations: 1) Paraphrase, 2) Elaboration, 3) Simplification, 4) Synonym, 5) Summary in 15 words or less.\n",
        "\n",
        "ChatGPT responses:\n",
        "1. Paraphrase: After completing his PhD at the age of 16, the exceptionally talented young prodigy reflected on the global challenges and recognized science as the answer.\n",
        "1. Elaboration: Having successfully obtained his PhD at the remarkably young age of 16, the boy genius engaged in deep contemplation of the complex issues faced by the world. His intuition led him to firmly believe that science held the key to addressing these challenges, further fueling his dedication to scientific pursuits.\n",
        "1. Simplification: The boy genius finished his PhD at 16 and believed science was the solution to the world's challenges.\n",
        "1. Synonym: Having completed his doctorate at 16, the exceptionally gifted young prodigy pondered the difficulties confronting the world, intuitively perceiving science as the remedy.\n",
        "1. Summary: The 16-year-old genius, having earned a PhD, contemplated global challenges and recognized science as the solution."
      ]
    },
    {
      "attachments": {},
      "cell_type": "markdown",
      "metadata": {
        "id": "NQCMNMiivES9"
      },
      "source": [
        "## Known dissimilar but close sentences\n",
        "A few dissimilar sentences were manually created and added:\n",
        "  1. The Frozen Deer was a popular store in the mountain town that sold supplies for hikers and mountain bikers.\n",
        "  1. The scientific article explains what causes animals to freeze staring into the headlights of speeding vehicles causing many deaths and accidents every year.\n",
        "  1. A record cold winter followed the drought. Many malnourished deer froze to death in the region.\n",
        "  1. The ice cream shop sold the Frozen Dear, a treat that became an inseparable and endearing part of the town’s high school dating.\n",
        "  1. The hunter proceeded to cut, clean, and freeze the deer. The hunter was lucky to get the deer, as his food supplies for the winter were running low. \n",
        "\n",
        "Other dissimilar sentences were generated by ChatGPT on related topics using the prompt:\n",
        "- Generate 10 sentences on each of the following topics, every sentence being 20 words or less: 1) car accidents, 2) science inventions, 3) deer, 4) challenges facing the world.\n",
        "\n",
        "ChatGPT response:\n",
        "\n",
        "Car Accidents:\n",
        "1. The driver's negligence resulted in a tragic car crash.\n",
        "1. Poor road conditions contributed to the accident.\n",
        "1. The collision caused significant damage to both vehicles.\n",
        "1. Speeding led to a fatal car accident on the highway.\n",
        "1. The driver's distraction caused a rear-end collision.\n",
        "1. The car skidded on the icy road, causing a collision with a tree.\n",
        "1. Drunk driving resulted in a serious car wreck.\n",
        "1. A sudden brake failure caused the car to crash into a building.\n",
        "1. The driver lost control of the vehicle, causing a rollover accident.\n",
        "1. Reckless overtaking led to a head-on collision.\n",
        "\n",
        "Science Inventions:\n",
        "1. The invention of the telephone revolutionized communication.\n",
        "1. The discovery of penicillin transformed medicine.\n",
        "1. The invention of the light bulb revolutionized modern society.\n",
        "1. The invention of the computer paved the way for the digital age.\n",
        "1. The discovery of DNA's structure laid the foundation for genetic research.\n",
        "1. The invention of the internet connected the world like never before.\n",
        "1. The development of vaccines saved millions of lives.\n",
        "1. The invention of the automobile changed transportation forever.\n",
        "1. The discovery of X-rays revolutionized medical imaging.\n",
        "1. The invention of the printing press transformed the spread of knowledge.\n",
        "\n",
        "Deer:\n",
        "1. The deer gracefully leaped over the fence.\n",
        "1. The deer cautiously approached the forest clearing.\n",
        "1. The majestic deer stood still, observing its surroundings.\n",
        "1. The deer nibbled on the lush grass by the stream.\n",
        "1. The deer's antlers glistened in the sunlight.\n",
        "1. The startled deer quickly darted into the dense forest.\n",
        "1. The deer bounded effortlessly through the meadow.\n",
        "1. The doe gently nuzzled her fawn in a tender display of affection.\n",
        "1. The deer cautiously crossed the road, looking out for oncoming vehicles.\n",
        "1. The hunter patiently waited for a deer to appear within range.\n",
        "\n",
        "Challenges Facing the World:\n",
        "1. Climate change poses a grave threat to our planet.\n",
        "1. Poverty remains a persistent challenge in many regions.\n",
        "1. Access to clean water is a pressing global issue.\n",
        "1. Political instability continues to disrupt nations worldwide.\n",
        "1. The fight against inequality and social injustice persists.\n",
        "1. The threat of terrorism looms large in many countries.\n",
        "1. Cybersecurity breaches pose a significant challenge in the digital age.\n",
        "1. Food security remains a critical concern for many communities.\n",
        "1. The global pandemic has exposed vulnerabilities in healthcare systems.\n",
        "1. Finding sustainable energy solutions is crucial for a greener future.\n"
      ]
    },
    {
      "attachments": {},
      "cell_type": "markdown",
      "metadata": {
        "id": "RlcRQH3nq7Jk"
      },
      "source": []
    },
    {
      "attachments": {},
      "cell_type": "markdown",
      "metadata": {
        "id": "lKxDSVfKxisA"
      },
      "source": [
        "## Expected results and scoring\n",
        "There are 6 expected similar sentences for each of two query sentences, as described above.\n",
        "\n",
        "If there are other results in the top 6 similar results, the accuracy score is calculated thus (here, n=6): \n",
        "\n",
        " ` (n-d) / n`\n",
        "\n",
        "where d is the dissimilar results in the top n returned results."
      ]
    },
    {
      "attachments": {},
      "cell_type": "markdown",
      "metadata": {
        "id": "pqm-Bc5-zlVs"
      },
      "source": [
        "## Populating the dataset"
      ]
    },
    {
      "cell_type": "code",
      "execution_count": 1,
      "metadata": {
        "id": "xkh6Zlh_zFn-"
      },
      "outputs": [],
      "source": [
        "docs = [\n",
        "    \"The car skidded to stop for the deer that stood frozen in the headlights of the car.\",\n",
        "    \"The vehicle slid and came to a halt in response to the deer's immobility under the car's headlights.\",\n",
        "    \"As the car lost traction, it slid across the road and eventually halted abruptly, its brakes screeching, due to the presence of a motionless deer standing in the direct path of its headlights.\",\n",
        "    \"The car skidded and stopped for the frozen deer in its headlights.\",\n",
        "    \"The car skidded to a standstill for the deer that remained motionless in the car's headlights.\",\n",
        "    \"The car skidded and stopped to avoid the motionless deer illuminated by its headlights.\",\n",
        "    \"Having finished his PhD at 16, the boy genius  contemplated the challenges the world faced, and intuited that science must be the solution.\",\n",
        "    \"After completing his PhD at the age of 16, the exceptionally talented young prodigy reflected on the global challenges and recognized science as the answer.\",\n",
        "    \"Having successfully obtained his PhD at the remarkably young age of 16, the boy genius engaged in deep contemplation of the complex issues faced by the world. His intuition led him to firmly believe that science held the key to addressing these challenges, further fueling his dedication to scientific pursuits.\",\n",
        "    \"The boy genius finished his PhD at 16 and believed science was the solution to the world's challenges.\",\n",
        "    \"Having completed his doctorate at 16, the exceptionally gifted young prodigy pondered the difficulties confronting the world, intuitively perceiving science as the remedy.\",\n",
        "    \"The 16-year-old genius, having earned a PhD, contemplated global challenges and recognized science as the solution.\",\n",
        "    \"The Frozen Deer was a popular store in the mountain town that sold supplies for hikers and mountain bikers.\",\n",
        "    \"The scientific article explains what causes animals to freeze staring into the headlights of speeding vehicles causing many deaths and accidents every year.\",\n",
        "    \"A record cold winter followed the drought. Many malnourished deer froze to death in the region.\",\n",
        "    \"The ice cream shop sold the Frozen Dear, a treat that became an inseparable and endearing part of the town’s high school dating.\",\n",
        "    \"The hunter proceeded to cut, clean, and freeze the deer. The hunter was lucky to get the deer, as his food supplies for the winter were running low.\",\n",
        "    \"The driver's negligence resulted in a tragic car crash.\",\n",
        "    \"Poor road conditions contributed to the accident.\",\n",
        "    \"The collision caused significant damage to both vehicles.\",\n",
        "    \"Speeding led to a fatal car accident on the highway.\",\n",
        "    \"The driver's distraction caused a rear-end collision.\",\n",
        "    \"The car skidded on the icy road, causing a collision with a tree.\",\n",
        "    \"Drunk driving resulted in a serious car wreck.\",\n",
        "    \"A sudden brake failure caused the car to crash into a building.\",\n",
        "    \"The driver lost control of the vehicle, causing a rollover accident.\",\n",
        "    \"Reckless overtaking led to a head-on collision.\",\n",
        "    \"The invention of the telephone revolutionized communication.\",\n",
        "    \"The discovery of penicillin transformed medicine.\",\n",
        "    \"The invention of the light bulb revolutionized modern society.\",\n",
        "    \"The invention of the computer paved the way for the digital age.\",\n",
        "    \"The discovery of DNA's structure laid the foundation for genetic research.\",\n",
        "    \"The invention of the internet connected the world like never before.\",\n",
        "    \"The development of vaccines saved millions of lives.\",\n",
        "    \"The invention of the automobile changed transportation forever.\",\n",
        "    \"The discovery of X-rays revolutionized medical imaging.\",\n",
        "    \"The invention of the printing press transformed the spread of knowledge.\",\n",
        "    \"The deer gracefully leaped over the fence.\",\n",
        "    \"The deer cautiously approached the forest clearing.\",\n",
        "    \"The majestic deer stood still, observing its surroundings.\",\n",
        "    \"The deer nibbled on the lush grass by the stream.\",\n",
        "    \"The deer's antlers glistened in the sunlight.\",\n",
        "    \"The startled deer quickly darted into the dense forest.\",\n",
        "    \"The deer bounded effortlessly through the meadow.\",\n",
        "    \"The doe gently nuzzled her fawn in a tender display of affection.\",\n",
        "    \"The deer cautiously crossed the road, looking out for oncoming vehicles.\",\n",
        "    \"The hunter patiently waited for a deer to appear within range.\",\n",
        "    \"Climate change poses a grave threat to our planet.\",\n",
        "    \"Poverty remains a persistent challenge in many regions.\",\n",
        "    \"Access to clean water is a pressing global issue.\",\n",
        "    \"Political instability continues to disrupt nations worldwide.\",\n",
        "    \"The fight against inequality and social injustice persists.\",\n",
        "    \"The threat of terrorism looms large in many countries.\",\n",
        "    \"Cybersecurity breaches pose a significant challenge in the digital age.\",\n",
        "    \"Food security remains a critical concern for many communities.\",\n",
        "    \"The global pandemic has exposed vulnerabilities in healthcare systems.\",\n",
        "    \"Finding sustainable energy solutions is crucial for a greener future.\",\n",
        "    ]"
      ]
    },
    {
      "cell_type": "code",
      "execution_count": 41,
      "metadata": {
        "colab": {
          "base_uri": "https://localhost:8080/"
        },
        "id": "1zJIMYat4iEL",
        "outputId": "69bdd799-90c8-4af3-acd1-638dd2903e1c"
      },
      "outputs": [
        {
          "name": "stdout",
          "output_type": "stream",
          "text": [
            "Looking in indexes: https://pypi.org/simple, https://us-python.pkg.dev/colab-wheels/public/simple/\n",
            "Collecting python-dotenv\n",
            "  Downloading python_dotenv-1.0.0-py3-none-any.whl (19 kB)\n",
            "Installing collected packages: python-dotenv\n",
            "Successfully installed python-dotenv-1.0.0\n"
          ]
        }
      ],
      "source": [
        "!pip3 install python-dotenv"
      ]
    },
    {
      "cell_type": "code",
      "execution_count": 43,
      "metadata": {
        "id": "2X5tBpED4B50"
      },
      "outputs": [],
      "source": [
        "from dotenv import dotenv_values\n",
        "\n",
        "config = dotenv_values(\".env\")\n",
        "hf_token = config['HUGGING_FACE_TOKEN'] # \"get your token in http://hf.co/settings/tokens\""
      ]
    },
    {
      "attachments": {},
      "cell_type": "markdown",
      "metadata": {
        "id": "q-4Ot7Cg0ZdR"
      },
      "source": [
        "## Generate embeddings for the dataset\n",
        "Obtain the doc embeddings from the LLM model. We use Hugging Face 'all-MimiLM-L6-v2'.::"
      ]
    },
    {
      "cell_type": "code",
      "execution_count": 4,
      "metadata": {
        "id": "N3v1MgAL3Y5F"
      },
      "outputs": [],
      "source": [
        "model_id = \"sentence-transformers/all-MiniLM-L6-v2\"\n",
        "api_url = f\"https://api-inference.huggingface.co/pipeline/feature-extraction/{model_id}\"\n",
        "headers = {\"Authorization\": f\"Bearer {hf_token}\"}"
      ]
    },
    {
      "cell_type": "code",
      "execution_count": 5,
      "metadata": {
        "id": "qya-EER35p1g"
      },
      "outputs": [],
      "source": [
        "import requests\n",
        "\n",
        "def query(texts):\n",
        "    response = requests.post(api_url, headers=headers, json={\"inputs\": texts, \"options\":{\"wait_for_model\":True}})\n",
        "    return response.json()"
      ]
    },
    {
      "cell_type": "code",
      "execution_count": 6,
      "metadata": {
        "colab": {
          "base_uri": "https://localhost:8080/"
        },
        "id": "5tyAr_v-52XL",
        "outputId": "780bf697-f76a-47d6-b8e7-c59430e24fab"
      },
      "outputs": [
        {
          "name": "stdout",
          "output_type": "stream",
          "text": [
            "number of docs: 57, dims: 384\n"
          ]
        }
      ],
      "source": [
        "hf_embeddings = query(docs)\n",
        "print(f'number of docs: {len(hf_embeddings)}, dims: {len(hf_embeddings[0])}')"
      ]
    },
    {
      "cell_type": "code",
      "execution_count": 7,
      "metadata": {
        "id": "vCrYVGCV6NgQ"
      },
      "outputs": [],
      "source": [
        "import pandas as pd\n",
        "import torch\n",
        "\n",
        "hf_embeddings_df = pd.DataFrame(hf_embeddings)\n",
        "doc_embeddings = torch.from_numpy(hf_embeddings_df.to_numpy()).to(torch.float)"
      ]
    },
    {
      "attachments": {},
      "cell_type": "markdown",
      "metadata": {
        "id": "zuS-WZBZ0p_w"
      },
      "source": [
        "## Semantic search\n",
        "We use semantic search functionality from the sentence_transformers library."
      ]
    },
    {
      "cell_type": "code",
      "execution_count": 8,
      "metadata": {
        "colab": {
          "base_uri": "https://localhost:8080/"
        },
        "id": "bGfp0EmO7ML_",
        "outputId": "26a72a26-b658-459e-eeb6-e3a14437493f"
      },
      "outputs": [
        {
          "name": "stdout",
          "output_type": "stream",
          "text": [
            "Looking in indexes: https://pypi.org/simple, https://us-python.pkg.dev/colab-wheels/public/simple/\n",
            "Collecting sentence-transformers\n",
            "  Downloading sentence-transformers-2.2.2.tar.gz (85 kB)\n",
            "\u001b[2K     \u001b[90m━━━━━━━━━━━━━━━━━━━━━━━━━━━━━━━━━━━━━━━━\u001b[0m \u001b[32m86.0/86.0 kB\u001b[0m \u001b[31m9.0 MB/s\u001b[0m eta \u001b[36m0:00:00\u001b[0m\n",
            "\u001b[?25h  Preparing metadata (setup.py) ... \u001b[?25l\u001b[?25hdone\n",
            "Collecting transformers<5.0.0,>=4.6.0 (from sentence-transformers)\n",
            "  Downloading transformers-4.30.1-py3-none-any.whl (7.2 MB)\n",
            "\u001b[2K     \u001b[90m━━━━━━━━━━━━━━━━━━━━━━━━━━━━━━━━━━━━━━━━\u001b[0m \u001b[32m7.2/7.2 MB\u001b[0m \u001b[31m99.8 MB/s\u001b[0m eta \u001b[36m0:00:00\u001b[0m\n",
            "\u001b[?25hRequirement already satisfied: tqdm in /usr/local/lib/python3.10/dist-packages (from sentence-transformers) (4.65.0)\n",
            "Requirement already satisfied: torch>=1.6.0 in /usr/local/lib/python3.10/dist-packages (from sentence-transformers) (2.0.1+cu118)\n",
            "Requirement already satisfied: torchvision in /usr/local/lib/python3.10/dist-packages (from sentence-transformers) (0.15.2+cu118)\n",
            "Requirement already satisfied: numpy in /usr/local/lib/python3.10/dist-packages (from sentence-transformers) (1.22.4)\n",
            "Requirement already satisfied: scikit-learn in /usr/local/lib/python3.10/dist-packages (from sentence-transformers) (1.2.2)\n",
            "Requirement already satisfied: scipy in /usr/local/lib/python3.10/dist-packages (from sentence-transformers) (1.10.1)\n",
            "Requirement already satisfied: nltk in /usr/local/lib/python3.10/dist-packages (from sentence-transformers) (3.8.1)\n",
            "Collecting sentencepiece (from sentence-transformers)\n",
            "  Downloading sentencepiece-0.1.99-cp310-cp310-manylinux_2_17_x86_64.manylinux2014_x86_64.whl (1.3 MB)\n",
            "\u001b[2K     \u001b[90m━━━━━━━━━━━━━━━━━━━━━━━━━━━━━━━━━━━━━━━━\u001b[0m \u001b[32m1.3/1.3 MB\u001b[0m \u001b[31m89.0 MB/s\u001b[0m eta \u001b[36m0:00:00\u001b[0m\n",
            "\u001b[?25hCollecting huggingface-hub>=0.4.0 (from sentence-transformers)\n",
            "  Downloading huggingface_hub-0.15.1-py3-none-any.whl (236 kB)\n",
            "\u001b[2K     \u001b[90m━━━━━━━━━━━━━━━━━━━━━━━━━━━━━━━━━━━━━━\u001b[0m \u001b[32m236.8/236.8 kB\u001b[0m \u001b[31m27.0 MB/s\u001b[0m eta \u001b[36m0:00:00\u001b[0m\n",
            "\u001b[?25hRequirement already satisfied: filelock in /usr/local/lib/python3.10/dist-packages (from huggingface-hub>=0.4.0->sentence-transformers) (3.12.0)\n",
            "Requirement already satisfied: fsspec in /usr/local/lib/python3.10/dist-packages (from huggingface-hub>=0.4.0->sentence-transformers) (2023.4.0)\n",
            "Requirement already satisfied: requests in /usr/local/lib/python3.10/dist-packages (from huggingface-hub>=0.4.0->sentence-transformers) (2.27.1)\n",
            "Requirement already satisfied: pyyaml>=5.1 in /usr/local/lib/python3.10/dist-packages (from huggingface-hub>=0.4.0->sentence-transformers) (6.0)\n",
            "Requirement already satisfied: typing-extensions>=3.7.4.3 in /usr/local/lib/python3.10/dist-packages (from huggingface-hub>=0.4.0->sentence-transformers) (4.5.0)\n",
            "Requirement already satisfied: packaging>=20.9 in /usr/local/lib/python3.10/dist-packages (from huggingface-hub>=0.4.0->sentence-transformers) (23.1)\n",
            "Requirement already satisfied: sympy in /usr/local/lib/python3.10/dist-packages (from torch>=1.6.0->sentence-transformers) (1.11.1)\n",
            "Requirement already satisfied: networkx in /usr/local/lib/python3.10/dist-packages (from torch>=1.6.0->sentence-transformers) (3.1)\n",
            "Requirement already satisfied: jinja2 in /usr/local/lib/python3.10/dist-packages (from torch>=1.6.0->sentence-transformers) (3.1.2)\n",
            "Requirement already satisfied: triton==2.0.0 in /usr/local/lib/python3.10/dist-packages (from torch>=1.6.0->sentence-transformers) (2.0.0)\n",
            "Requirement already satisfied: cmake in /usr/local/lib/python3.10/dist-packages (from triton==2.0.0->torch>=1.6.0->sentence-transformers) (3.25.2)\n",
            "Requirement already satisfied: lit in /usr/local/lib/python3.10/dist-packages (from triton==2.0.0->torch>=1.6.0->sentence-transformers) (16.0.5)\n",
            "Requirement already satisfied: regex!=2019.12.17 in /usr/local/lib/python3.10/dist-packages (from transformers<5.0.0,>=4.6.0->sentence-transformers) (2022.10.31)\n",
            "Collecting tokenizers!=0.11.3,<0.14,>=0.11.1 (from transformers<5.0.0,>=4.6.0->sentence-transformers)\n",
            "  Downloading tokenizers-0.13.3-cp310-cp310-manylinux_2_17_x86_64.manylinux2014_x86_64.whl (7.8 MB)\n",
            "\u001b[2K     \u001b[90m━━━━━━━━━━━━━━━━━━━━━━━━━━━━━━━━━━━━━━━━\u001b[0m \u001b[32m7.8/7.8 MB\u001b[0m \u001b[31m81.4 MB/s\u001b[0m eta \u001b[36m0:00:00\u001b[0m\n",
            "\u001b[?25hCollecting safetensors>=0.3.1 (from transformers<5.0.0,>=4.6.0->sentence-transformers)\n",
            "  Downloading safetensors-0.3.1-cp310-cp310-manylinux_2_17_x86_64.manylinux2014_x86_64.whl (1.3 MB)\n",
            "\u001b[2K     \u001b[90m━━━━━━━━━━━━━━━━━━━━━━━━━━━━━━━━━━━━━━━━\u001b[0m \u001b[32m1.3/1.3 MB\u001b[0m \u001b[31m80.8 MB/s\u001b[0m eta \u001b[36m0:00:00\u001b[0m\n",
            "\u001b[?25hRequirement already satisfied: click in /usr/local/lib/python3.10/dist-packages (from nltk->sentence-transformers) (8.1.3)\n",
            "Requirement already satisfied: joblib in /usr/local/lib/python3.10/dist-packages (from nltk->sentence-transformers) (1.2.0)\n",
            "Requirement already satisfied: threadpoolctl>=2.0.0 in /usr/local/lib/python3.10/dist-packages (from scikit-learn->sentence-transformers) (3.1.0)\n",
            "Requirement already satisfied: pillow!=8.3.*,>=5.3.0 in /usr/local/lib/python3.10/dist-packages (from torchvision->sentence-transformers) (8.4.0)\n",
            "Requirement already satisfied: MarkupSafe>=2.0 in /usr/local/lib/python3.10/dist-packages (from jinja2->torch>=1.6.0->sentence-transformers) (2.1.2)\n",
            "Requirement already satisfied: urllib3<1.27,>=1.21.1 in /usr/local/lib/python3.10/dist-packages (from requests->huggingface-hub>=0.4.0->sentence-transformers) (1.26.15)\n",
            "Requirement already satisfied: certifi>=2017.4.17 in /usr/local/lib/python3.10/dist-packages (from requests->huggingface-hub>=0.4.0->sentence-transformers) (2022.12.7)\n",
            "Requirement already satisfied: charset-normalizer~=2.0.0 in /usr/local/lib/python3.10/dist-packages (from requests->huggingface-hub>=0.4.0->sentence-transformers) (2.0.12)\n",
            "Requirement already satisfied: idna<4,>=2.5 in /usr/local/lib/python3.10/dist-packages (from requests->huggingface-hub>=0.4.0->sentence-transformers) (3.4)\n",
            "Requirement already satisfied: mpmath>=0.19 in /usr/local/lib/python3.10/dist-packages (from sympy->torch>=1.6.0->sentence-transformers) (1.3.0)\n",
            "Building wheels for collected packages: sentence-transformers\n",
            "  Building wheel for sentence-transformers (setup.py) ... \u001b[?25l\u001b[?25hdone\n",
            "  Created wheel for sentence-transformers: filename=sentence_transformers-2.2.2-py3-none-any.whl size=125926 sha256=7e9488143af25d8919d174ff50160decaba72e79dc64d364274eb50cbe9d5117\n",
            "  Stored in directory: /root/.cache/pip/wheels/62/f2/10/1e606fd5f02395388f74e7462910fe851042f97238cbbd902f\n",
            "Successfully built sentence-transformers\n",
            "Installing collected packages: tokenizers, sentencepiece, safetensors, huggingface-hub, transformers, sentence-transformers\n",
            "Successfully installed huggingface-hub-0.15.1 safetensors-0.3.1 sentence-transformers-2.2.2 sentencepiece-0.1.99 tokenizers-0.13.3 transformers-4.30.1\n"
          ]
        }
      ],
      "source": [
        "!pip install -U sentence-transformers"
      ]
    },
    {
      "attachments": {},
      "cell_type": "markdown",
      "metadata": {
        "id": "SaH9mlrP1IwG"
      },
      "source": [
        "### First search"
      ]
    },
    {
      "cell_type": "code",
      "execution_count": 9,
      "metadata": {
        "id": "qg0Qq8ZE7Sq1"
      },
      "outputs": [],
      "source": [
        "q1_sentence = \"The deer froze in the headlights of the car.\"\n",
        "q1_output = query(q1_sentence)\n",
        "q1_embeddings = torch.FloatTensor(q1_output)"
      ]
    },
    {
      "cell_type": "code",
      "execution_count": 10,
      "metadata": {
        "id": "GWzhu9ue72Fg"
      },
      "outputs": [],
      "source": [
        "from sentence_transformers.util import semantic_search, cos_sim, dot_score\n",
        "\n",
        "hits1 = semantic_search(q1_embeddings, doc_embeddings, top_k=7, score_function=cos_sim)"
      ]
    },
    {
      "cell_type": "code",
      "execution_count": 11,
      "metadata": {
        "colab": {
          "base_uri": "https://localhost:8080/"
        },
        "id": "os7cq7Nu7org",
        "outputId": "9bea3550-1e80-47ea-b6e6-10a3155234a7"
      },
      "outputs": [
        {
          "name": "stdout",
          "output_type": "stream",
          "text": [
            "The car skidded and stopped for the frozen deer in its headlights.\n",
            "The car skidded to stop for the deer that stood frozen in the headlights of the car.\n",
            "The car skidded to a standstill for the deer that remained motionless in the car's headlights.\n",
            "The car skidded and stopped to avoid the motionless deer illuminated by its headlights.\n",
            "The vehicle slid and came to a halt in response to the deer's immobility under the car's headlights.\n",
            "The scientific article explains what causes animals to freeze staring into the headlights of speeding vehicles causing many deaths and accidents every year.\n",
            "As the car lost traction, it slid across the road and eventually halted abruptly, its brakes screeching, due to the presence of a motionless deer standing in the direct path of its headlights.\n"
          ]
        }
      ],
      "source": [
        "print(*[docs[hits1[0][i]['corpus_id']] for i in range(len(hits1[0]))], sep='\\n')"
      ]
    },
    {
      "attachments": {},
      "cell_type": "markdown",
      "metadata": {
        "id": "pR0DUND6vrdE"
      },
      "source": [
        "The top 5 results are expected semantically similar results. The positions of 6th and 7th results should be reversed. \n",
        "\n",
        "Acccuracy: 5/6 = 83%."
      ]
    },
    {
      "attachments": {},
      "cell_type": "markdown",
      "metadata": {
        "id": "KtAxbEu61Olr"
      },
      "source": [
        "### Second search"
      ]
    },
    {
      "cell_type": "code",
      "execution_count": 40,
      "metadata": {
        "colab": {
          "base_uri": "https://localhost:8080/"
        },
        "id": "7fOPEU85sy-K",
        "outputId": "88cedce7-0bf5-404e-9ef2-11b195f37a88"
      },
      "outputs": [
        {
          "name": "stdout",
          "output_type": "stream",
          "text": [
            "The 16-year-old genius, having earned a PhD, contemplated global challenges and recognized science as the solution.\n",
            "Having completed his doctorate at 16, the exceptionally gifted young prodigy pondered the difficulties confronting the world, intuitively perceiving science as the remedy.\n",
            "Having finished his PhD at 16, the boy genius  contemplated the challenges the world faced, and intuited that science must be the solution.\n",
            "The boy genius finished his PhD at 16 and believed science was the solution to the world's challenges.\n",
            "After completing his PhD at the age of 16, the exceptionally talented young prodigy reflected on the global challenges and recognized science as the answer.\n",
            "Finding sustainable energy solutions is crucial for a greener future.\n",
            "Having successfully obtained his PhD at the remarkably young age of 16, the boy genius engaged in deep contemplation of the complex issues faced by the world. His intuition led him to firmly believe that science held the key to addressing these challenges, further fueling his dedication to scientific pursuits.\n"
          ]
        }
      ],
      "source": [
        "q2_sentence = \"Dream to solve world's problems.\"\n",
        "q2_output = query(q2_sentence)\n",
        "q2_embeddings = torch.FloatTensor(q2_output)\n",
        "hits2 = semantic_search(q2_embeddings, doc_embeddings, top_k=7, score_function=cos_sim)\n",
        "print(*[docs[hits2[0][i]['corpus_id']] for i in range(len(hits2[0]))], sep='\\n')"
      ]
    },
    {
      "attachments": {},
      "cell_type": "markdown",
      "metadata": {
        "id": "W-Cy3rNWxipq"
      },
      "source": [
        "5 out of top 6 results are the expected semantically similar results. \n",
        "\n",
        "Acccuracy: 5/6 = 83%."
      ]
    },
    {
      "attachments": {},
      "cell_type": "markdown",
      "metadata": {
        "id": "1TlJaTYe1ZvK"
      },
      "source": [
        "### Similarity using dot product function"
      ]
    },
    {
      "cell_type": "code",
      "execution_count": 44,
      "metadata": {
        "colab": {
          "base_uri": "https://localhost:8080/"
        },
        "id": "bX9G9br71tK2",
        "outputId": "1a605068-81e6-4366-a091-59c939423a44"
      },
      "outputs": [
        {
          "name": "stdout",
          "output_type": "stream",
          "text": [
            "The car skidded and stopped for the frozen deer in its headlights.\n",
            "The car skidded to stop for the deer that stood frozen in the headlights of the car.\n",
            "The car skidded to a standstill for the deer that remained motionless in the car's headlights.\n",
            "The car skidded and stopped to avoid the motionless deer illuminated by its headlights.\n",
            "The vehicle slid and came to a halt in response to the deer's immobility under the car's headlights.\n",
            "The scientific article explains what causes animals to freeze staring into the headlights of speeding vehicles causing many deaths and accidents every year.\n",
            "As the car lost traction, it slid across the road and eventually halted abruptly, its brakes screeching, due to the presence of a motionless deer standing in the direct path of its headlights.\n"
          ]
        }
      ],
      "source": [
        "# query 1\n",
        "hits1 = semantic_search(q1_embeddings, doc_embeddings, top_k=7, score_function=dot_score)\n",
        "print(*[docs[hits1[0][i]['corpus_id']] for i in range(len(hits1[0]))], sep='\\n')"
      ]
    },
    {
      "attachments": {},
      "cell_type": "markdown",
      "metadata": {
        "id": "Wby4LQCN2_Zk"
      },
      "source": [
        "5 out of top 6 results are the expected semantically similar results. Acccuracy: 5/6 = 83%."
      ]
    },
    {
      "cell_type": "code",
      "execution_count": 47,
      "metadata": {
        "colab": {
          "base_uri": "https://localhost:8080/"
        },
        "id": "INRm2-j32PND",
        "outputId": "dea12998-9e5e-4343-dd80-fcc6ab2fb1b7"
      },
      "outputs": [
        {
          "name": "stdout",
          "output_type": "stream",
          "text": [
            "The 16-year-old genius, having earned a PhD, contemplated global challenges and recognized science as the solution.\n",
            "Having completed his doctorate at 16, the exceptionally gifted young prodigy pondered the difficulties confronting the world, intuitively perceiving science as the remedy.\n",
            "Having finished his PhD at 16, the boy genius  contemplated the challenges the world faced, and intuited that science must be the solution.\n",
            "The boy genius finished his PhD at 16 and believed science was the solution to the world's challenges.\n",
            "After completing his PhD at the age of 16, the exceptionally talented young prodigy reflected on the global challenges and recognized science as the answer.\n",
            "Finding sustainable energy solutions is crucial for a greener future.\n",
            "Having successfully obtained his PhD at the remarkably young age of 16, the boy genius engaged in deep contemplation of the complex issues faced by the world. His intuition led him to firmly believe that science held the key to addressing these challenges, further fueling his dedication to scientific pursuits.\n"
          ]
        }
      ],
      "source": [
        "# query 2\n",
        "hits2 = semantic_search(q2_embeddings, doc_embeddings, top_k=7, score_function=dot_score)\n",
        "print(*[docs[hits2[0][i]['corpus_id']] for i in range(len(hits2[0]))], sep='\\n')"
      ]
    },
    {
      "attachments": {},
      "cell_type": "markdown",
      "metadata": {
        "id": "DbrzSyhE2uG0"
      },
      "source": [
        "5 out of top 6 results are the expected semantically similar results. Acccuracy: 5/6 = 83%."
      ]
    },
    {
      "attachments": {},
      "cell_type": "markdown",
      "metadata": {
        "id": "oxx4IOrTx4-h"
      },
      "source": [
        "### Similarity using Euclidean distance\n",
        "We use numpy's functions to compute Euclidean distance."
      ]
    },
    {
      "cell_type": "code",
      "execution_count": 33,
      "metadata": {
        "id": "o2JX_TJvx3tD"
      },
      "outputs": [],
      "source": [
        "import numpy as np\n",
        "N = 57\n",
        "d = 384\n",
        "k = 7 # #top k\n",
        "# create an array of N d-dimensional vectors (the search space)\n",
        "S = hf_embeddings_df.to_numpy()"
      ]
    },
    {
      "cell_type": "code",
      "execution_count": 35,
      "metadata": {
        "colab": {
          "base_uri": "https://localhost:8080/"
        },
        "id": "IlL3fUlD0g4F",
        "outputId": "fb15ece3-df88-4940-fbb2-4914a88eb9b5"
      },
      "outputs": [
        {
          "name": "stdout",
          "output_type": "stream",
          "text": [
            "The car skidded and stopped for the frozen deer in its headlights.\n",
            "The car skidded to stop for the deer that stood frozen in the headlights of the car.\n",
            "The car skidded to a standstill for the deer that remained motionless in the car's headlights.\n",
            "The car skidded and stopped to avoid the motionless deer illuminated by its headlights.\n",
            "The vehicle slid and came to a halt in response to the deer's immobility under the car's headlights.\n",
            "The scientific article explains what causes animals to freeze staring into the headlights of speeding vehicles causing many deaths and accidents every year.\n",
            "As the car lost traction, it slid across the road and eventually halted abruptly, its brakes screeching, due to the presence of a motionless deer standing in the direct path of its headlights.\n"
          ]
        }
      ],
      "source": [
        "# query 1\n",
        "# create a d-dimensional query vector\n",
        "x = np.array(q1_output)\n",
        "# compute distances\n",
        "distances = np.linalg.norm(S - x, axis = 1)\n",
        "# select indices of vectors having the lowest distances from the X\n",
        "neighbours = np.argpartition(distances, range(0, k))[:k]\n",
        "print(*[docs[neighbours[i]] for i in range(len(neighbours))], sep='\\n')"
      ]
    },
    {
      "attachments": {},
      "cell_type": "markdown",
      "metadata": {
        "id": "pCDlpBr83bYB"
      },
      "source": [
        "5 out of top 6 results are the expected semantically similar results. Acccuracy: 5/6 = 83%."
      ]
    },
    {
      "cell_type": "code",
      "execution_count": 36,
      "metadata": {
        "colab": {
          "base_uri": "https://localhost:8080/"
        },
        "id": "gaNj0kYj2syG",
        "outputId": "196eb53e-2f4c-40db-dbf1-665a8d14c7a6"
      },
      "outputs": [
        {
          "name": "stdout",
          "output_type": "stream",
          "text": [
            "The 16-year-old genius, having earned a PhD, contemplated global challenges and recognized science as the solution.\n",
            "Having finished his PhD at 16, the boy genius  contemplated the challenges the world faced, and intuited that science must be the solution.\n",
            "The boy genius finished his PhD at 16 and believed science was the solution to the world's challenges.\n",
            "The invention of the internet connected the world like never before.\n",
            "Having completed his doctorate at 16, the exceptionally gifted young prodigy pondered the difficulties confronting the world, intuitively perceiving science as the remedy.\n",
            "Finding sustainable energy solutions is crucial for a greener future.\n",
            "The fight against inequality and social injustice persists.\n"
          ]
        }
      ],
      "source": [
        "# query 2\n",
        "# create a d-dimensional query vector\n",
        "x = np.array(q2_output)\n",
        "# compute distances\n",
        "distances = np.linalg.norm(S - x, axis = 1)\n",
        "# select indices of vectors having the lowest distances from the X\n",
        "neighbours = np.argpartition(distances, range(0, k))[:k]\n",
        "print(*[docs[neighbours[i]] for i in range(len(neighbours))], sep='\\n')"
      ]
    },
    {
      "attachments": {},
      "cell_type": "markdown",
      "metadata": {
        "id": "F9E3mkYs3dFN"
      },
      "source": [
        "5 out of top 6 results are the expected semantically similar results. Acccuracy: 5/6 = 83%."
      ]
    }
  ],
  "metadata": {
    "colab": {
      "provenance": []
    },
    "kernelspec": {
      "display_name": "Python 3",
      "name": "python3"
    },
    "language_info": {
      "name": "python"
    }
  },
  "nbformat": 4,
  "nbformat_minor": 0
}
